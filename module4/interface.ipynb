{
 "cells": [
  {
   "cell_type": "code",
   "execution_count": 1,
   "metadata": {},
   "outputs": [],
   "source": [
    "from fake_scope import FakeSCPITektronix\n",
    "instr = FakeSCPITektronix()"
   ]
  },
  {
   "cell_type": "code",
   "execution_count": 3,
   "metadata": {},
   "outputs": [
    {
     "data": {
      "text/plain": [
       "'TEKTRONIX,MSO3014,234234,V.34.123'"
      ]
     },
     "execution_count": 3,
     "metadata": {},
     "output_type": "execute_result"
    }
   ],
   "source": [
    "instr.ask('*IDN?')"
   ]
  },
  {
   "cell_type": "code",
   "execution_count": 8,
   "metadata": {
    "scrolled": true
   },
   "outputs": [
    {
     "data": {
      "text/plain": [
       "'10'"
      ]
     },
     "execution_count": 8,
     "metadata": {},
     "output_type": "execute_result"
    }
   ],
   "source": [
    "instr.ask('CH1:SCA?')"
   ]
  },
  {
   "cell_type": "code",
   "execution_count": 5,
   "metadata": {},
   "outputs": [],
   "source": [
    "instr.write('CH1:SCA 10')"
   ]
  },
  {
   "cell_type": "code",
   "execution_count": 95,
   "metadata": {},
   "outputs": [
    {
     "name": "stdout",
     "output_type": "stream",
     "text": [
      "('TEKTRONIX', 'MSO3014', '234234', 'V.34.123')\n",
      "('TEKTRONIX', 'MSO3014', '234234', 'V.34.123')\n",
      "5.0\n"
     ]
    }
   ],
   "source": [
    "class SCPI(object):\n",
    "    def __init__(self, instr):\n",
    "        self._instr = instr\n",
    "\n",
    "    def scpi_ask(self, cmd):\n",
    "        cmd = cmd if cmd.endswith('?') else cmd + '?'\n",
    "        return self._instr.ask(cmd)\n",
    "\n",
    "    def scpi_write(self, cmd, *args):\n",
    "        \"\"\" Execute a SCPI command\n",
    "\n",
    "        for example :\n",
    "        inst.scpi_write('FREQ', 1234)\n",
    "        \"\"\"\n",
    "        arg_str = ','.join(str(elm) for elm in args)\n",
    "        self._instr.write(cmd + ' ' + arg_str)\n",
    "\n",
    "    def scpi_ask_for_float(self, cmd):\n",
    "        \"\"\"Ask an convert to float\"\"\"\n",
    "        out = self.scpi_ask(cmd)\n",
    "        try : \n",
    "            return float(out)\n",
    "        except ValueError:\n",
    "            raise Exception(f'Cannot convert {out!r} to float')\n",
    "        \n",
    "class TektronixScope(SCPI):\n",
    "    def get_idn(self):\n",
    "        return tuple(self.scpi_ask('*IDN?').split(','))\n",
    "    \n",
    "    idn = property(get_idn)\n",
    "    \n",
    "    def get_channel_scale(self, channel_number):\n",
    "        # CH1:SCA?\n",
    "        cmd = f\"CH{channel_number}:SCA?\"\n",
    "        return self.scpi_ask_for_float(cmd)\n",
    "    \n",
    "    def set_channel_scale(self, channel_number, value):\n",
    "        # CH1:SCA xx\n",
    "        cmd = f\"CH{channel_number}:SCA\"\n",
    "        self.scpi_write(cmd, value)\n",
    "        \n",
    "    @property\n",
    "    def channel1_scale(self):\n",
    "        return self.get_channel_scale(1)\n",
    "    \n",
    "    @channel1_scale.setter\n",
    "    def channel1_scale(self, value):\n",
    "        self.set_channel_scale(1, value)\n",
    "        \n",
    "    @property\n",
    "    def vertical_offset(self):\n",
    "        return self.scpi_ask_for_float('WFMO:YOF')\n",
    "\n",
    "    @property\n",
    "    def vertical_multiplication_factor(self):\n",
    "        return self.scpi_ask_for_float('WFMO:YMU')\n",
    "                \n",
    "    def get_waveform(self):\n",
    "        data = self._instr.ask_raw('CURVE?')\n",
    "        header_length = int(data[1:2])\n",
    "        header = data[2:2+header_length]\n",
    "        array_size = int(header)\n",
    "        data = data[2 + header_length:2 + header_length + array_size ]\n",
    "        data =  np.frombuffer(data, dtype=np.dtype('int16').newbyteorder('>'))        \n",
    "        return (data-self.vertical_offset)*self.vertical_multiplication_factor\n",
    "        \n",
    "    \n",
    "scope = TektronixScope(instr)\n",
    "print(scope.get_idn())\n",
    "print(scope.idn)\n",
    "scope.set_channel_scale(1, 5)\n",
    "print(scope.get_channel_scale(1))\n",
    "#type(scope.get_channel_scale(1))"
   ]
  },
  {
   "cell_type": "code",
   "execution_count": 96,
   "metadata": {},
   "outputs": [
    {
     "data": {
      "text/plain": [
       "3.0"
      ]
     },
     "execution_count": 96,
     "metadata": {},
     "output_type": "execute_result"
    }
   ],
   "source": [
    "scope.channel1_scale = 3\n",
    "scope.channel1_scale\n"
   ]
  },
  {
   "cell_type": "code",
   "execution_count": 97,
   "metadata": {},
   "outputs": [
    {
     "data": {
      "text/plain": [
       "[<matplotlib.lines.Line2D at 0x7f285da0da10>]"
      ]
     },
     "execution_count": 97,
     "metadata": {},
     "output_type": "execute_result"
    },
    {
     "data": {
      "image/png": "[encoded data removed]",
      "text/plain": [
       "<Figure size 432x288 with 1 Axes>"
      ]
     },
     "metadata": {
      "needs_background": "light"
     },
     "output_type": "display_data"
    }
   ],
   "source": [
    "from matplotlib.pyplot import figure\n",
    "%matplotlib inline\n",
    "\n",
    "fig = figure()\n",
    "ax = fig.subplots(1, 1)\n",
    "\n",
    "data = scope.get_waveform()\n",
    "ax.plot(data)"
   ]
  },
  {
   "cell_type": "code",
   "execution_count": 31,
   "metadata": {},
   "outputs": [
    {
     "data": {
      "text/plain": [
       "10"
      ]
     },
     "execution_count": 31,
     "metadata": {},
     "output_type": "execute_result"
    }
   ],
   "source": [
    "ord('\\n')"
   ]
  },
  {
   "cell_type": "code",
   "execution_count": 33,
   "metadata": {},
   "outputs": [
    {
     "data": {
      "text/plain": [
       "'0x61'"
      ]
     },
     "execution_count": 33,
     "metadata": {},
     "output_type": "execute_result"
    }
   ],
   "source": [
    "hex(ord('a'))"
   ]
  },
  {
   "cell_type": "code",
   "execution_count": 34,
   "metadata": {},
   "outputs": [
    {
     "data": {
      "text/plain": [
       "'a'"
      ]
     },
     "execution_count": 34,
     "metadata": {},
     "output_type": "execute_result"
    }
   ],
   "source": [
    "'\\x61'"
   ]
  },
  {
   "cell_type": "code",
   "execution_count": 71,
   "metadata": {},
   "outputs": [],
   "source": [
    "s = b'#40004\\x0a\\x0e\\x10\\x18'"
   ]
  },
  {
   "cell_type": "code",
   "execution_count": 72,
   "metadata": {},
   "outputs": [],
   "source": [
    "s[0]\n",
    "header_length = int(s[1:2])\n",
    "header = s[2:2+header_length]\n",
    "array_size = int(header)\n",
    "data = s[2 + header_length:2 + header_length + array_size ]"
   ]
  },
  {
   "cell_type": "code",
   "execution_count": 73,
   "metadata": {},
   "outputs": [
    {
     "data": {
      "text/plain": [
       "b'\\n\\x0e\\x10\\x18'"
      ]
     },
     "execution_count": 73,
     "metadata": {},
     "output_type": "execute_result"
    }
   ],
   "source": [
    "data"
   ]
  },
  {
   "cell_type": "code",
   "execution_count": 74,
   "metadata": {},
   "outputs": [
    {
     "data": {
      "text/plain": [
       "array([10, 14, 16, 24], dtype=int8)"
      ]
     },
     "execution_count": 74,
     "metadata": {},
     "output_type": "execute_result"
    }
   ],
   "source": [
    "import numpy as np\n",
    "np.frombuffer(data, dtype='int8')"
   ]
  },
  {
   "cell_type": "code",
   "execution_count": 62,
   "metadata": {},
   "outputs": [
    {
     "data": {
      "text/plain": [
       "4"
      ]
     },
     "execution_count": 62,
     "metadata": {},
     "output_type": "execute_result"
    }
   ],
   "source": [
    "s = b'#40004\\x0a\\x0e\\x10\\x18'\n",
    "int(b'4')"
   ]
  },
  {
   "cell_type": "code",
   "execution_count": 63,
   "metadata": {},
   "outputs": [
    {
     "data": {
      "text/plain": [
       "'o'"
      ]
     },
     "execution_count": 63,
     "metadata": {},
     "output_type": "execute_result"
    }
   ],
   "source": [
    "s = 'Bonjour'\n",
    "s[1]"
   ]
  },
  {
   "cell_type": "code",
   "execution_count": 69,
   "metadata": {},
   "outputs": [
    {
     "data": {
      "text/plain": [
       "b'B'"
      ]
     },
     "execution_count": 69,
     "metadata": {},
     "output_type": "execute_result"
    }
   ],
   "source": [
    "s = b'Bonjour'\n",
    "s[:1]"
   ]
  },
  {
   "cell_type": "code",
   "execution_count": 68,
   "metadata": {},
   "outputs": [
    {
     "data": {
      "text/plain": [
       "int"
      ]
     },
     "execution_count": 68,
     "metadata": {},
     "output_type": "execute_result"
    }
   ],
   "source": [
    "type(s[1])"
   ]
  },
  {
   "cell_type": "code",
   "execution_count": null,
   "metadata": {},
   "outputs": [],
   "source": [
    "s = '58'\n",
    "s[0]*10**1\n",
    "s[1]*10**0"
   ]
  }
 ],
 "metadata": {
  "kernelspec": {
   "display_name": "Python 3",
   "language": "python",
   "name": "python3"
  },
  "language_info": {
   "codemirror_mode": {
    "name": "ipython",
    "version": 3
   },
   "file_extension": ".py",
   "mimetype": "text/x-python",
   "name": "python",
   "nbconvert_exporter": "python",
   "pygments_lexer": "ipython3",
   "version": "3.7.4"
  }
 },
 "nbformat": 4,
 "nbformat_minor": 2
}
