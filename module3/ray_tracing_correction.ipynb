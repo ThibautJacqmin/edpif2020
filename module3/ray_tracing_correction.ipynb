{
 "cells": [
  {
   "cell_type": "markdown",
   "metadata": {},
   "source": [
    "## Ray tracing"
   ]
  },
  {
   "cell_type": "code",
   "execution_count": 5,
   "metadata": {},
   "outputs": [],
   "source": [
    "import numpy as np\n",
    "import matplotlib.pyplot as plt"
   ]
  },
  {
   "cell_type": "code",
   "execution_count": 20,
   "metadata": {},
   "outputs": [],
   "source": [
    "class SphericalInterface(object):\n",
    "    diameter = 25.4\n",
    "    def __init__(self, z0, R, n_1, n_2, diameter=None):\n",
    "        self.z0 = z0\n",
    "        self.R = R\n",
    "        if diameter is not None:\n",
    "            self.diameter = diameter\n",
    "        self.n_1 = n_1\n",
    "        self.n_2 = n_2\n",
    "        self.z_center = z0 + R\n",
    "## TODO COMPLETE THE __init__\n",
    "    def __repr__(self):\n",
    "        return f'SphericalInterface(z0={self.z0}, R={self.R}, n_1={self.n_1}, n_2={self.n_2})'\n",
    "## TODO WRITE __repr__\n",
    "\n",
    "    def plot(self, ax):\n",
    "        y = np.linspace(-self.diameter/2, self.diameter/2, 200)\n",
    "        z = self.z_center - np.sqrt(self.R**2 - y**2)*np.sign(self.R)\n",
    "        ax.plot(z, y)\n",
    "        ax.set_aspect(1)\n",
    "## TODO COMPLETE plot\n",
    "\n",
    "#### SOLUTION : Refraction by a spherical interface\n",
    "    def intersection(self, ray):\n",
    "        k = ray.k\n",
    "        delta_p0 = ray.p0 - np.array([0,0, self.z_center])\n",
    "        a = np.linalg.norm(k)**2\n",
    "        b = 2*np.dot(k, delta_p0)\n",
    "        c = np.linalg.norm(delta_p0)**2 - self.R**2\n",
    "        disc = b**2 - 4*a*c\n",
    "        if self.R>0:\n",
    "            t = (-b - np.sqrt(disc))/(2*a)\n",
    "        else:\n",
    "            t = (-b + np.sqrt(disc))/(2*a)\n",
    "        return ray.p0 + t*k\n",
    "\n",
    "    def refract(self, beam):\n",
    "        p2 = self.intersection(beam)\n",
    "        n = p2 - np.array([0,0, self.z_center])\n",
    "        n = n/np.linalg.norm(n)\n",
    "        k_par = beam.k - np.dot(beam.k, n)*n\n",
    "        alpha = np.sqrt(self.n_2**2 - np.linalg.norm(k_par)**2)\n",
    "        if self.R>0:\n",
    "            k2 = k_par - alpha*n\n",
    "        else:\n",
    "            k2 = k_par + alpha*n\n",
    "        return Ray(p2, k2)\n",
    "\n",
    "\n",
    "class PlaneInterface(SphericalInterface):\n",
    "    def __init__(self, self.z_center, n_1, n_2):\n",
    "        pass\n",
    "    def intersection(self, ray):\n",
    "        pass\n",
    "    def refract(self, ray):\n",
    "        pass\n",
    "    \n",
    "    "
   ]
  },
  {
   "cell_type": "code",
   "execution_count": 30,
   "metadata": {},
   "outputs": [],
   "source": [
    "class Ray():\n",
    "    def __init__(self, p0, k, n=None):\n",
    "        self.p0 = p0\n",
    "        self.k = k\n",
    "        if n is not None:\n",
    "            self.normalize(n)\n",
    "    def normalize(self, n):\n",
    "        \"\"\"Normalize k such that ||k||=n\"\"\"\n",
    "        self.k = self.k/np.linalg.norm(self.k)*n\n",
    "\n",
    "    def __repr__(self):\n",
    "        return f\"Ray(p0={self.p0}, k={self.k}\"\n"
   ]
  },
  {
   "cell_type": "code",
   "execution_count": 37,
   "metadata": {},
   "outputs": [
    {
     "data": {
      "text/plain": [
       "[<matplotlib.lines.Line2D at 0x7fed858b6790>]"
      ]
     },
     "execution_count": 37,
     "metadata": {},
     "output_type": "execute_result"
    },
    {
     "data": {
      "image/png": "[encoded data removed]",
      "text/plain": [
       "<Figure size 432x288 with 1 Axes>"
      ]
     },
     "metadata": {
      "needs_background": "light"
     },
     "output_type": "display_data"
    }
   ],
   "source": [
    "z0 = 0\n",
    "R = 20\n",
    "n1 = 1\n",
    "n2 = 1.5\n",
    "interf = SphericalInterface(z0, -R, n1, n2)\n",
    "\n",
    "fig = plt.figure()\n",
    "ax = fig.subplots(1, 1)\n",
    "interf.plot(ax)\n",
    "\n",
    "p1 = np.array([0,5,-3])\n",
    "k1 = np.array([0, .5, np.sqrt(.75)])\n",
    "ray = Ray(p1, k1)\n",
    "\n",
    "ray1 = interf.refract(ray)\n",
    "ax.plot([ray1.p0[2]], [ray1.p0[1]], 'o')"
   ]
  },
  {
   "cell_type": "code",
   "execution_count": 38,
   "metadata": {},
   "outputs": [
    {
     "data": {
      "text/plain": [
       "[<matplotlib.lines.Line2D at 0x7fed85cc5410>]"
      ]
     },
     "execution_count": 38,
     "metadata": {},
     "output_type": "execute_result"
    },
    {
     "data": {
      "image/png": "[encoded data removed]",
      "text/plain": [
       "<Figure size 432x288 with 1 Axes>"
      ]
     },
     "metadata": {
      "needs_background": "light"
     },
     "output_type": "display_data"
    }
   ],
   "source": [
    "z0 = 0\n",
    "R = 20\n",
    "n1 = 1\n",
    "n2 = 1.5\n",
    "interf = SphericalInterface(z0, R, n1, n2)\n",
    "\n",
    "fig = plt.figure()\n",
    "ax = fig.subplots(1, 1)\n",
    "interf.plot(ax)\n",
    "\n",
    "ray1 = interf.refract(ray)\n",
    "ax.plot([ray1.p0[2]], [ray1.p0[1]], 'o')"
   ]
  },
  {
   "cell_type": "code",
   "execution_count": 39,
   "metadata": {},
   "outputs": [],
   "source": [
    "class Beam(list):\n",
    "    #There is no __init__ method. \n",
    "    def plot(self, ax):\n",
    "        y_coordinates = [ray.p0[1] for ray in self]\n",
    "        z_coordinates = [ray.p0[2] for ray in self]\n",
    "        ax.plot(z_coordinates, y_coordinates)\n"
   ]
  },
  {
   "cell_type": "code",
   "execution_count": 40,
   "metadata": {},
   "outputs": [],
   "source": [
    "class OpticalSystem(list):\n",
    "    def calculate_beam(self, r0):\n",
    "        beam = Beam()\n",
    "        beam.append(r0)\n",
    "        for interface in self:\n",
    "            beam.append(interface.refract(beam[-1]))\n",
    "        return beam\n",
    "    def plot(self, ax):\n",
    "        for interface in self:\n",
    "            interface.plot(ax)\n"
   ]
  },
  {
   "cell_type": "code",
   "execution_count": null,
   "metadata": {},
   "outputs": [],
   "source": []
  },
  {
   "cell_type": "code",
   "execution_count": 41,
   "metadata": {},
   "outputs": [],
   "source": [
    "p1 = np.array([0,0,-3])\n",
    "z0 = 0\n",
    "R = 20\n",
    "n1 = 1\n",
    "n2 = 1.5\n",
    "k1 = np.array([0, .5, np.sqrt(.75)])\n",
    "\n",
    "ray = Ray(p1, k1)\n",
    "interf = SphericalInterface(z0, R, n1, n2)"
   ]
  },
  {
   "cell_type": "code",
   "execution_count": 42,
   "metadata": {},
   "outputs": [
    {
     "data": {
      "text/plain": [
       "Ray(p0=[0.         1.77775806 0.07916728], k=[0.         0.4495773  1.43104167]"
      ]
     },
     "execution_count": 42,
     "metadata": {},
     "output_type": "execute_result"
    }
   ],
   "source": [
    "interf.refract(ray)"
   ]
  },
  {
   "cell_type": "code",
   "execution_count": null,
   "metadata": {},
   "outputs": [],
   "source": []
  },
  {
   "cell_type": "code",
   "execution_count": 45,
   "metadata": {},
   "outputs": [
    {
     "data": {
      "image/png": "[encoded data removed]",
      "text/plain": [
       "<Figure size 432x288 with 1 Axes>"
      ]
     },
     "metadata": {
      "needs_background": "light"
     },
     "output_type": "display_data"
    }
   ],
   "source": [
    "n_LAH64 = 1.77694\n",
    "n_SF11 = 1.76583\n",
    "n_air = 1.0002992\n",
    "\n",
    "\n",
    "S1 = SphericalInterface(0,-4.7, n_air, n_SF11, diameter=3)\n",
    "\n",
    "S2 = SphericalInterface(1.5, 1E10, n_SF11, n_air, diameter=3)\n",
    "\n",
    "LC2969 = OpticalSystem()\n",
    "LC2969.append(S1)\n",
    "LC2969.append(S2)\n",
    "\n",
    "screen = SphericalInterface(30, 1e10, 30, n_air, n_air)\n",
    "\n",
    "system = OpticalSystem()\n",
    "system.extend(LC2969)\n",
    "system.append(screen)\n",
    "\n",
    "r0 = Ray(p0=np.array([0,1,-5]), k=np.array([0,0,1]), n=n_air)\n",
    "beam = system.calculate_beam(r0)\n",
    "\n",
    "fig = plt.figure()\n",
    "ax = fig.subplots(1, 1)\n",
    "\n",
    "LC2969.plot(ax)\n",
    "beam.plot(ax)\n"
   ]
  },
  {
   "cell_type": "code",
   "execution_count": null,
   "metadata": {},
   "outputs": [],
   "source": []
  }
 ],
 "metadata": {
  "kernelspec": {
   "display_name": "Python 3",
   "language": "python",
   "name": "python3"
  },
  "language_info": {
   "codemirror_mode": {
    "name": "ipython",
    "version": 3
   },
   "file_extension": ".py",
   "mimetype": "text/x-python",
   "name": "python",
   "nbconvert_exporter": "python",
   "pygments_lexer": "ipython3",
   "version": "3.7.4"
  }
 },
 "nbformat": 4,
 "nbformat_minor": 2
}
